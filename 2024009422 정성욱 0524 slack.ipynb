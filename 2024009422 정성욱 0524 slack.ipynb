{
  "metadata": {
    "kernelspec": {
      "name": "python",
      "display_name": "Python (Pyodide)",
      "language": "python"
    },
    "language_info": {
      "codemirror_mode": {
        "name": "python",
        "version": 3
      },
      "file_extension": ".py",
      "mimetype": "text/x-python",
      "name": "python",
      "nbconvert_exporter": "python",
      "pygments_lexer": "ipython3",
      "version": "3.8"
    }
  },
  "nbformat_minor": 4,
  "nbformat": 4,
  "cells": [
    {
      "cell_type": "code",
      "source": "class Person:\n    def __init__(self, name, mobile, office, email):\n        self.name = name\n        self.mobile = mobile\n        self.office = office\n        self.email = email\n\n    def setName(self, name):\n        self.name = name\n\n    def setMobile(self, mobile):\n        self.mobile = mobile\n\n    def setOffice(self, office):\n        self.office = office\n\n    def setEmail(self, email):\n        self.email = email\n\n    def getName(self):\n        return self.name\n        \n    def getMobile(self):\n        return self.mobile\n        \n    def getOffice(self):\n        return self.office\n        \n    def getEmail(self):\n        return self.email\n    def __str__(self):\n        return \"{} \\t {} \\t {} \\t {}\".format(self.name, self.mobile, self.office, self.email)",
      "metadata": {
        "trusted": true
      },
      "outputs": [],
      "execution_count": null
    },
    {
      "cell_type": "code",
      "source": "def is_prime(num):\n    if num < 2:\n        return False\n\n    for i in range(2, int(num**0.5)+1):\n        if num % i == 0:\n            return False\n    return True\n\ndef solution(n):\n    pfactor = []\n    for i in range(2, n):\n        if n % i == 0:\n            if is_prime(i):\n                pfactor.append(i)\n    return pfactor\nprint(solution(12))",
      "metadata": {
        "trusted": true
      },
      "outputs": [],
      "execution_count": null
    },
    {
      "cell_type": "code",
      "source": "import random\n\np1 = input(\"이름을 입력하세요 : \")\np2 = input(\"이름을 입력하세요 : \")\ninput(\"주사위를 던지려면 Enter 키를 누르세요!\")\nl = [random.randint(1,6) for _ in range(2)]\nprint(f\"[{p1}의 주사위 : {l[0]}] , [{p2}의 주사위 : {l[1]}]\")\nif l[0]>l[1]:\n    print(f\"{p1} 승리!\")\nelif l[0]<l[1]:\n    print(f\"{p2} 승리!\")\nelse:\n    print(\"무승부!\")",
      "metadata": {
        "trusted": true
      },
      "outputs": [],
      "execution_count": null
    }
  ]
}