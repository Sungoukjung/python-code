{
  "metadata": {
    "kernelspec": {
      "name": "python",
      "display_name": "Python (Pyodide)",
      "language": "python"
    },
    "language_info": {
      "codemirror_mode": {
        "name": "python",
        "version": 3
      },
      "file_extension": ".py",
      "mimetype": "text/x-python",
      "name": "python",
      "nbconvert_exporter": "python",
      "pygments_lexer": "ipython3",
      "version": "3.8"
    }
  },
  "nbformat_minor": 4,
  "nbformat": 4,
  "cells": [
    {
      "cell_type": "code",
      "source": "a, b = map(int, input(\"숫자 두개를 입력해주세요 : \").split())\ntry:\n  c = a / b\n  print(f'{a} / {b} = {c}')\nexcept ZeroDivisionError:\n  print(\"어느 숫자를 0으로 나눌 수 없습니다.\")\nexcept IndexError:\n  print(\"숫자를 입력해주세요\")",
      "metadata": {
        "trusted": true
      },
      "outputs": [],
      "execution_count": null
    },
    {
      "cell_type": "code",
      "source": "a, b = map(int, input(\"숫자 두개를 입력해주세요 : \").split())",
      "metadata": {
        "trusted": true
      },
      "outputs": [],
      "execution_count": null
    },
    {
      "cell_type": "markdown",
      "source": "# 두개의 값을 입력받습니다.",
      "metadata": {}
    },
    {
      "cell_type": "code",
      "source": "try:\n  c = a / b\n  print(f'{a} / {b} = {c}')",
      "metadata": {
        "trusted": true
      },
      "outputs": [],
      "execution_count": null
    },
    {
      "cell_type": "markdown",
      "source": "# 두 값을 나눈 값을 새로 정의하고, format을 통해 입력합니다.",
      "metadata": {}
    },
    {
      "cell_type": "code",
      "source": "except ZeroDivisionError:\n  print(\"어느 숫자를 0으로 나눌 수 없습니다.\")",
      "metadata": {
        "trusted": true
      },
      "outputs": [],
      "execution_count": null
    },
    {
      "cell_type": "markdown",
      "source": "# ZeroDivisionError인 예외 ",
      "metadata": {}
    },
    {
      "cell_type": "code",
      "source": "except IndexError:\n  print(\"숫자를 입력해주세요\")",
      "metadata": {
        "trusted": true
      },
      "outputs": [],
      "execution_count": null
    },
    {
      "cell_type": "code",
      "source": "",
      "metadata": {
        "trusted": true
      },
      "outputs": [],
      "execution_count": null
    }
  ]
}