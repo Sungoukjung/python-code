{
  "metadata": {
    "kernelspec": {
      "name": "python",
      "display_name": "Python (Pyodide)",
      "language": "python"
    },
    "language_info": {
      "codemirror_mode": {
        "name": "python",
        "version": 3
      },
      "file_extension": ".py",
      "mimetype": "text/x-python",
      "name": "python",
      "nbconvert_exporter": "python",
      "pygments_lexer": "ipython3",
      "version": "3.8"
    }
  },
  "nbformat_minor": 4,
  "nbformat": 4,
  "cells": [
    {
      "cell_type": "code",
      "source": "import itertools as it\n\ndef is_prime(num):\n\n    if num < 2:\n        return False\n\n    for i in range(2, int(num**0.5)+1):\n        if num % i == 0:\n            return False\n    else:\n        return True\n\ndef solution(nums):\n    count = 0\n    for numbers in it.combinations(nums, 3):\n        if is_prime(sum(numbers)):\n            count += 1\n    return count\nsolution([1,2,7,6,4])",
      "metadata": {
        "trusted": true
      },
      "outputs": [],
      "execution_count": null
    },
    {
      "cell_type": "markdown",
      "source": "에라토스테네스의 체에 의하여, 소수는 2부터 어느 숫자의 제곱근에 정수부분에다가 1을 더한 값 까지 나누어 떨어지는 수가 존재하지 않으면 그 수를 소수라고 한다.\n우선 소수를 표현하기 위한 함수를 위 내용을 바탕으로 작성하였다. 그리고 어떤 숫자가 나열된 리스트를 받았을 때, 그 리스트에서 3개의 수를 임의로 뽑는 코드인 itertools.combinations를 이용하여 가능한 경우의 수를 찾아두고, 각각의 리스트의 합을 sum을 이용해 구한 후, 그 수가 소수인지 판별하는 함수인 is_prime을 통해 3개의 합이 소수인 집합의 개수를 찾을 수 있다.",
      "metadata": {}
    }
  ]
}